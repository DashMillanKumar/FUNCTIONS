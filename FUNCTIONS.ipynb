{
  "nbformat": 4,
  "nbformat_minor": 0,
  "metadata": {
    "colab": {
      "provenance": []
    },
    "kernelspec": {
      "name": "python3",
      "display_name": "Python 3"
    },
    "language_info": {
      "name": "python"
    }
  },
  "cells": [
    {
      "cell_type": "markdown",
      "source": [
        "# **THEORY QUESTIONS**"
      ],
      "metadata": {
        "id": "OrmsYiIIB23B"
      }
    },
    {
      "cell_type": "markdown",
      "source": [
        "### Q1. What is the difference between a function and a method in Python?\n",
        "Answer:- a function is a block of code that is defined to perform a specific task, and it can be called anywhere in your program.\n",
        "\n",
        "A method is a function that is associated with an object. It's a function that is defined within a class and is called on an instance of that class.\n",
        "\n",
        "# Function example\n",
        "def greet(name):\n",
        "    return \"Hello, \" + name\n",
        "\n",
        "print(greet(\"Millan\"))  # Calling the function\n",
        "\n",
        "# Method example\n",
        "class Person:\n",
        "    def __init__(self, name):\n",
        "        self.name = name\n",
        "    \n",
        "    def greet(self):\n",
        "        return \"Hello, \" + self.name\n",
        "\n",
        "p = Person(\"ReX\")\n",
        "print(p.greet())  # Calling the method on an object\n",
        "\n",
        "### Q2. Explain the concept of function arguments and parameters in Python.\n",
        "Answer:- function arguments and parameters are related concepts that help you pass data into functions.\n",
        "\n",
        "Parameters are variables that are listed inside the function definition. They act as placeholders for the values that will be passed to the function.\n",
        "Arguments are the actual values you pass to the function when you call it.\n",
        "Example:\n",
        "\n",
        "# Function definition with parameters (x and y)\n",
        "def add(x, y):\n",
        "    return x + y\n",
        "\n",
        "# Function call with arguments (3 and 5)\n",
        "result = add(3, 5)\n",
        "\n",
        "print(result)  # Output: 8\n",
        "\n",
        "###Q3. What are the different ways to define and call a function in Python?\n",
        "Answer: there are several ways to define and call a function. Below are the different methods:\n",
        "\n",
        "1. Basic Function Definition\n",
        "You define a function using the def keyword, followed by the function name and parameters.\n",
        "\n",
        "Example:\n",
        "\n",
        "# Function definition\n",
        "def greet(name):\n",
        "    return \"Hello, \" + name\n",
        "\n",
        "# Function call\n",
        "print(greet(\"Millan\"))  # Output: Hello, Millan\n",
        "\n",
        "2. Function with Default Parameters\n",
        "You can define default values for parameters. If the caller doesn't provide a value for that parameter, the default is used.\n",
        "\n",
        "Example:\n",
        "\n",
        "def greet(name=\"Guest\"):\n",
        "    return \"Hello, \" + name\n",
        "\n",
        "print(greet())        # Output: Hello, Guest\n",
        "print(greet(\"ReX\"))   # Output: Hello, ReX\n",
        "3. Function with Variable Number of Arguments (*args)\n",
        "You can define a function that accepts a variable number of arguments using *args.\n",
        "\n",
        "Example:\n",
        "\n",
        "def greet(*names):\n",
        "    for name in names:\n",
        "        print(\"Hello, \" + name)\n",
        "\n",
        "greet(\"Millan\", \"Kalpana\", \"ReX\")\n",
        "# Output:\n",
        "# Hello, Millan\n",
        "# Hello, Kalpana\n",
        "# Hello, ReX\n",
        "4. Function with Keyword Arguments (**kwargs)\n",
        "You can also pass a variable number of keyword arguments using **kwargs. This allows you to pass values as key-value pairs.\n",
        "\n",
        "Example:\n",
        "\n",
        "def greet(**people):\n",
        "    for name, greeting in people.items():\n",
        "        print(greeting + \", \" + name)\n",
        "\n",
        "greet(Millan=\"Good morning\", Kalpana=\"Hello\", ReX=\"Hey\")\n",
        "# Output:\n",
        "# Good morning, Millan\n",
        "# Hello, Kalpana\n",
        "# Hey, ReX\n",
        "5. Lambda Functions (Anonymous Functions)\n",
        "A lambda function is a small, anonymous function defined using the lambda keyword.\n",
        "\n",
        "Example:\n",
        "\n",
        "add = lambda x, y: x + y\n",
        "print(add(3, 5))  # Output: 8\n",
        "6. Function as an Argument\n",
        "You can pass a function as an argument to another function.\n",
        "\n",
        "Example:\n",
        "python\n",
        "Copy code\n",
        "def call_function(func, x, y):\n",
        "    return func(x, y)\n",
        "\n",
        "def multiply(x, y):\n",
        "    return x * y\n",
        "\n",
        "result = call_function(multiply, 3, 4)\n",
        "print(result)  # Output: 12\n",
        "7. Nested Functions (Function Inside Another Function)\n",
        "A function can be defined inside another function. This is called a nested function.\n",
        "\n",
        "Example:\n",
        "\n",
        "def outer_function():\n",
        "    def inner_function():\n",
        "        print(\"This is the inner function.\")\n",
        "    inner_function()\n",
        "\n",
        "outer_function()  # Output: This is the inner function.\n",
        "\n",
        "\n",
        "### Q4.What is the purpose of the `return` statement in a Python function?\n",
        "\n",
        "Answer:- The purpose of the return statement in a Python function is to send a result or value back to the caller. It allows the function to provide an output after performing its operations, which can then be used or stored in a variable.\n",
        "\n",
        "Example:-\n",
        "\n",
        "def add(x, y):\n",
        "    result = x + y\n",
        "    return result  # This sends the result back to the caller\n",
        "\n",
        "sum_value = add(3, 5)  # Calling the function and storing the returned value\n",
        "print(sum_value)  # Output: 8\n",
        "\n",
        "### Q5. What are iterators in Python and how do they differ from iterables?\n",
        "\n",
        "Answer:\n",
        "Iterable: An object that can be looped over (like a list, string, or tuple). It provides an iterator when you call iter() on it.\n",
        "\n",
        "Iterator: An object that keeps track of the current position and gives you one item at a time when you call next().\n",
        "\n",
        "Example:-\n",
        "\n",
        "# Iterable: A list\n",
        "numbers = [1, 2, 3]\n",
        "\n",
        "# Create an iterator from the iterable\n",
        "iterator = iter(numbers)\n",
        "\n",
        "# Use the iterator to get items one by one\n",
        "print(next(iterator))  # Output: 1\n",
        "print(next(iterator))  # Output: 2\n",
        "print(next(iterator))  # Output: 3\n",
        "\n",
        "### Q6. Explain the concept of generators in Python and how they are defined.\n",
        "\n",
        "Answer:- A generator in Python is a special type of function that allows you to generate a sequence of values one at a time, instead of returning all values at once like a regular function. This is helpful when working with large data sets because it saves memory.\n",
        "\n",
        "Example:-\n",
        "# generator function\n",
        "\n",
        "def count_up_to(max):\n",
        "    count = 1\n",
        "    while count <= max:\n",
        "        yield count  # Yield the current value of count\n",
        "        count += 1  # Move to the next number\n",
        "\n",
        "# Create a generator object\n",
        "counter = count_up_to(5)\n",
        "\n",
        "# Get values from the generator\n",
        "print(next(counter))  # Output: 1\n",
        "print(next(counter))  # Output: 2\n",
        "print(next(counter))  # Output: 3\n",
        "print(next(counter))  # Output: 4\n",
        "print(next(counter))  # Output: 5\n",
        "\n",
        "### Q7. What are the advantages of using generators over regular functions?\n",
        "\n",
        "Answer:-\n",
        "\n",
        "Generators have several advantages over regular functions when it comes to handling large data or sequences.\n",
        "\n",
        "Advantages of Generators:\n",
        "Memory Efficiency:\n",
        "\n",
        "Generators do not store all values in memory at once. Instead, they generate values one at a time when needed, which is more efficient for large datasets.\n",
        "Lazy Evaluation:\n",
        "\n",
        "Generators only calculate values when they are required. This means they don’t do unnecessary work, which can improve performance.\n",
        "Convenience:\n",
        "\n",
        "Generators are often easier to write and more readable for iterating over data compared to creating complex loops.\n",
        "\n",
        "Example:-\n",
        "\n",
        "Regular Function (Returns all values at once):\n",
        "\n",
        "def get_numbers():\n",
        "    numbers = []\n",
        "    for i in range(1, 6):\n",
        "        numbers.append(i)\n",
        "    return numbers\n",
        "\n",
        "result = get_numbers()\n",
        "print(result)  # Output: [1, 2, 3, 4, 5]\n",
        "\n",
        "\n",
        "Generator (Yields values one by one):\n",
        "\n",
        "def get_numbers():\n",
        "    for i in range(1, 6):\n",
        "        yield i\n",
        "\n",
        "generator = get_numbers()\n",
        "print(next(generator))  # Output: 1\n",
        "print(next(generator))  # Output: 2\n",
        "print(next(generator))  # Output: 3\n",
        "print(next(generator))  # Output: 4\n",
        "print(next(generator))  # Output: 5\n",
        "\n",
        "### Q8. What is a lambda function in Python and when is it typically used?\n",
        "\n",
        "Answer:- A lambda function in Python is a small, simple function that is defined using the lambda keyword. It can take any number of inputs but only has one line of code that gets executed, and it automatically returns a result.\n",
        "\n",
        "#syntax:-\n",
        "lambda arguments: expression\n",
        "\n",
        "#Example:-\n",
        "\n",
        "# A lambda function that adds two numbers\n",
        "add = lambda x, y: x + y\n",
        "\n",
        "# Calling the lambda function\n",
        "print(add(3, 5))  # Output: 8\n",
        "\n",
        "Use of Lambda:-\n",
        "\n",
        "Small, one-time tasks: When you need a quick function that doesn't need a full definition with def.\n",
        "Passing as arguments: Often used in functions like map(), filter(), or sorted() where you need a simple function temporarily.\n",
        "\n",
        "### Q9. Explain the purpose and usage of the `map()` function in Python\n",
        "\n",
        "Answer:-\n",
        "The map() function in Python is used to apply a function to each item in a collection (like a list, tuple, or string). It helps you process each element in the collection without needing to write a loop.\n",
        "\n",
        "Purpose:\n",
        "\n",
        "The main purpose of map() is to apply a function to every item in an iterable (a list, for example) and return a new collection with the results.\n",
        "Syntax:\n",
        "\n",
        "map(function, iterable)\n",
        "\n",
        "\n",
        "function: The function that will be applied to each item in the iterable.\n",
        "iterable: The collection (like a list or tuple) of items you want to modify.\n",
        "\n",
        "\n",
        "Example:\n",
        "\n",
        "# A function that squares a number\n",
        "def square(x):\n",
        "    return x * x\n",
        "\n",
        "# A list of numbers\n",
        "numbers = [1, 2, 3, 4, 5]\n",
        "\n",
        "# Apply the square function to each number in the list using map()\n",
        "squared_numbers = map(square, numbers)\n",
        "\n",
        "# Convert the map object to a list and print the result\n",
        "print(list(squared_numbers))  # Output: [1, 4, 9, 16, 25]\n",
        "\n",
        "\n",
        "\n",
        "###Q10. What is the difference between `map()`, `reduce()`, and `filter()` functions in Python ?\n",
        "\n",
        "Answer:-\n",
        "The map(), reduce(), and filter() functions in Python are all used to process collections (like lists or tuples), but they have different purposes and behaviors.\n",
        "\n",
        "1. map() function:\n",
        "Purpose: Applies a function to every item in a collection (like a list) and returns a new collection with the results.\n",
        "Output: A new collection (like a list) with transformed items.\n",
        "Example:\n",
        "\n",
        "# Function to square a number\n",
        "def square(x):\n",
        "    return x * x\n",
        "\n",
        "numbers = [1, 2, 3, 4]\n",
        "\n",
        "# Using map to square each number in the list\n",
        "squared_numbers = map(square, numbers)\n",
        "print(list(squared_numbers))  # Output: [1, 4, 9, 16]\n",
        "2. reduce() function:\n",
        "Purpose: Applies a function to reduce a collection of items into a single value (it works by combining items one by one).\n",
        "Output: A single result after combining all the items.\n",
        "\n",
        "Example:\n",
        "\n",
        "from functools import reduce\n",
        "\n",
        "# Function to add two numbers\n",
        "def add(x, y):\n",
        "    return x + y\n",
        "\n",
        "numbers = [1, 2, 3, 4]\n",
        "\n",
        "# Using reduce to sum all the numbers in the list\n",
        "total = reduce(add, numbers)\n",
        "print(total)  # Output: 10\n",
        "3. filter() function:\n",
        "Purpose: Filters the items in a collection based on a condition. It keeps only the items for which the function returns True.\n",
        "Output: A new collection with only the items that meet the condition.\n",
        "\n",
        "\n",
        "Example:\n",
        "\n",
        "# Function to check if a number is even\n",
        "def is_even(x):\n",
        "    return x % 2 == 0\n",
        "\n",
        "numbers = [1, 2, 3, 4]\n",
        "\n",
        "# Using filter to keep only even numbers\n",
        "even_numbers = filter(is_even, numbers)\n",
        "print(list(even_numbers))  # Output: [2, 4]\n",
        "\n",
        "### Q11. Using pen & Paper write the internal mechanism for sum operation using  reduce function on this given\n",
        "list:[47,11,42,13];\n",
        "\n",
        "Answer:- https://drive.google.com/file/d/1p89irq47XmCoccUvmnlZG8UqMh4qHfjz/view?usp=drive_link"
      ],
      "metadata": {
        "id": "VOrRpEBKB760"
      }
    },
    {
      "cell_type": "markdown",
      "source": [
        "# **PRATICAL QUESTIONS**"
      ],
      "metadata": {
        "id": "tnbsxFgJXFYX"
      }
    },
    {
      "cell_type": "code",
      "source": [
        "### Q1. Write a Python function that takes a list of numbers as input and returns the sum of all even numbers in the list.\n",
        "\n",
        "#Answer:-\n",
        "\n",
        "numbers = [1, 2, 3, 4, 5, 6, 7, 8, 9]\n",
        "result = sum_of_even_numbers(numbers)\n",
        "print(result)\n"
      ],
      "metadata": {
        "colab": {
          "base_uri": "https://localhost:8080/"
        },
        "id": "gNZ7uj33XTTr",
        "outputId": "fa27295c-10ae-4220-b105-20dde7ad4247"
      },
      "execution_count": null,
      "outputs": [
        {
          "output_type": "stream",
          "name": "stdout",
          "text": [
            "20\n"
          ]
        }
      ]
    },
    {
      "cell_type": "code",
      "source": [
        "### Q2. Create a Python function that accepts a string and returns the reverse of that string ?\n",
        "\n",
        "#Answer:-\n",
        "\n",
        "def reverse_string(input_string):\n",
        "    return input_string[::-1]\n",
        "\n",
        "print(reverse_string(\"Millan\"))"
      ],
      "metadata": {
        "colab": {
          "base_uri": "https://localhost:8080/"
        },
        "id": "2SrbVM8ZZ2AQ",
        "outputId": "68307c3f-2142-44c1-94a1-c38c4e5d9d2f"
      },
      "execution_count": null,
      "outputs": [
        {
          "output_type": "stream",
          "name": "stdout",
          "text": [
            "nalliM\n"
          ]
        }
      ]
    },
    {
      "cell_type": "code",
      "source": [
        "### Q3.  Implement a Python function that takes a list of integers and returns a new list containing the squares of each number.\n",
        "#Answer:-\n",
        "\n",
        "def square_numbers(numbers):\n",
        "    return [x ** 2 for x in numbers]\n",
        "    numbers = [1, 2, 3, 4, 5]\n",
        "squared = square_numbers(numbers)\n",
        "print(squared)"
      ],
      "metadata": {
        "colab": {
          "base_uri": "https://localhost:8080/"
        },
        "id": "pGrXlS2Ia4Zl",
        "outputId": "e14326b8-267f-4647-97db-2c0fb3dc54de"
      },
      "execution_count": null,
      "outputs": [
        {
          "output_type": "stream",
          "name": "stdout",
          "text": [
            "[1, 4, 9, 16, 25, 36, 49, 64, 81]\n"
          ]
        }
      ]
    },
    {
      "cell_type": "code",
      "source": [
        "### Q4. Write a Python function that checks if a given number is prime or not from 1 to 200\n",
        "\n",
        "#Answer:-\n",
        "def is_prime(number):\n",
        "    if number < 2 or number > 200:\n",
        "        return \"Number must be between 1 and 200\"\n",
        "    for i in range(2, int(number ** 0.5) + 1):\n",
        "        if number % i == 0:\n",
        "            return False\n",
        "    return True\n",
        "\n",
        "    print(is_prime(29))  # Output: True\n",
        "print(is_prime(200))  # Output: False"
      ],
      "metadata": {
        "colab": {
          "base_uri": "https://localhost:8080/"
        },
        "id": "zml9KdtebL8u",
        "outputId": "5b9ade10-d589-40fd-abb6-33a4345f0bde"
      },
      "execution_count": null,
      "outputs": [
        {
          "output_type": "stream",
          "name": "stdout",
          "text": [
            "False\n"
          ]
        }
      ]
    },
    {
      "cell_type": "code",
      "source": [
        "### Q5.  Create an iterator class in Python that generates the Fibonacci sequence up to a specified number of terms.\n",
        "\n",
        "#Answer:-\n",
        "\n",
        "class FibonacciIterator:\n",
        "    def __init__(self, n):\n",
        "        self.n = n  # Number of terms in the sequence\n",
        "        self.a, self.b = 0, 1  # Initialize the first two Fibonacci numbers\n",
        "        self.count = 0  # To keep track of the number of terms generated\n",
        "\n",
        "    def __iter__(self):\n",
        "        return self  # The class itself is the iterator\n",
        "\n",
        "    def __next__(self):\n",
        "        if self.count >= self.n:  # If we've generated 'n' terms, stop the iteration\n",
        "            raise StopIteration\n",
        "        else:\n",
        "            self.count += 1\n",
        "            self.a, self.b = self.b, self.a + self.b  # Generate the next Fibonacci number\n",
        "            return self.a\n",
        "\n",
        "\n",
        "fib = FibonacciIterator(10)  # Generate first 10 Fibonacci numbers\n",
        "for num in fib:\n",
        "    print(num)\n"
      ],
      "metadata": {
        "colab": {
          "base_uri": "https://localhost:8080/"
        },
        "id": "3PZcxAk7bdq8",
        "outputId": "c6545c4a-3504-476d-ebd2-9c7ba527a8ae"
      },
      "execution_count": null,
      "outputs": [
        {
          "output_type": "stream",
          "name": "stdout",
          "text": [
            "1\n",
            "1\n",
            "2\n",
            "3\n",
            "5\n",
            "8\n",
            "13\n",
            "21\n",
            "34\n",
            "55\n"
          ]
        }
      ]
    },
    {
      "cell_type": "code",
      "source": [
        "### Q6.  Write a generator function in Python that yields the powers of 2 up to a given exponent.\n",
        "\n",
        "#Answer:\n",
        "\n",
        "def powers_of_two(exponent):\n",
        "    for i in range(exponent + 1):\n",
        "        yield 2 ** i\n",
        "\n",
        "for power in powers_of_two(5):\n",
        "    print(power)"
      ],
      "metadata": {
        "colab": {
          "base_uri": "https://localhost:8080/"
        },
        "id": "Sn1Aezeeb_sp",
        "outputId": "eefea3c3-6fb9-4dee-b591-158f25258d2b"
      },
      "execution_count": null,
      "outputs": [
        {
          "output_type": "stream",
          "name": "stdout",
          "text": [
            "1\n",
            "2\n",
            "4\n",
            "8\n",
            "16\n",
            "32\n"
          ]
        }
      ]
    },
    {
      "cell_type": "code",
      "source": [
        "### Q7. Implement a generator function that reads a file line by line and yields each line as a string.\n",
        "\n",
        "#Answer:-\n",
        "\n",
        "\n",
        "def read_file_lines(file_path):\n",
        "  \"\"\"\n",
        "  Reads a file line by line and yields each line as a string.\n",
        "\n",
        "  Args:\n",
        "    file_path: The path to the file to read.\n",
        "\n",
        "  Yields:\n",
        "    Each line of the file as a string.\n",
        "  \"\"\"\n",
        "  with open(file_path, 'r') as file:\n",
        "    for line in file:\n",
        "      yield line.strip()\n",
        "\n",
        "\n",
        "\n",
        "\n",
        "\n",
        "\n"
      ],
      "metadata": {
        "id": "MNnlfyhror0J"
      },
      "execution_count": 83,
      "outputs": []
    },
    {
      "cell_type": "code",
      "source": [
        "### Q8. Use a lambda function in Python to sort a list of tuples based on the second element of each tuple.\n",
        "\n",
        "#Answer:-\n",
        "\n",
        "# List of tuples\n",
        "tuples_list = [(1, 4), (2, 1), (3, 3), (4, 2)]\n",
        "\n",
        "# Sorting the list based on the second element of each tuple using a lambda function\n",
        "sorted_list = sorted(tuples_list, key=lambda x: x[1])\n",
        "\n",
        "# Print the sorted list\n",
        "print(sorted_list)"
      ],
      "metadata": {
        "colab": {
          "base_uri": "https://localhost:8080/"
        },
        "id": "ilV41FfXppGS",
        "outputId": "a0accc50-3dae-41d3-9333-5a258c45f9c4"
      },
      "execution_count": null,
      "outputs": [
        {
          "output_type": "stream",
          "name": "stdout",
          "text": [
            "[(2, 1), (4, 2), (3, 3), (1, 4)]\n"
          ]
        }
      ]
    },
    {
      "cell_type": "code",
      "source": [
        "### Q9. Write a Python program that uses `map()` to convert a list of temperatures from Celsius to Fahrenheit.\n",
        "\n",
        "#Answer:-\n",
        "\n",
        "# List of temperatures in Celsius\n",
        "celsius_temperatures = [0, 20, 37, 100]\n",
        "\n",
        "# Function to convert Celsius to Fahrenheit\n",
        "def celsius_to_fahrenheit(celsius):\n",
        "    return (celsius * 9/5) + 32\n",
        "\n",
        "# Use map() to apply the conversion to each element in the list\n",
        "fahrenheit_temperatures = list(map(celsius_to_fahrenheit, celsius_temperatures))\n",
        "\n",
        "# Print the converted temperatures\n",
        "print(fahrenheit_temperatures)"
      ],
      "metadata": {
        "colab": {
          "base_uri": "https://localhost:8080/"
        },
        "id": "_YkGt65dp6AC",
        "outputId": "7cbf3e6d-94e6-48f3-ef1b-923cf79f7d50"
      },
      "execution_count": null,
      "outputs": [
        {
          "output_type": "stream",
          "name": "stdout",
          "text": [
            "[32.0, 68.0, 98.6, 212.0]\n"
          ]
        }
      ]
    },
    {
      "cell_type": "code",
      "source": [
        "### Q10. # Function to check if a character is a vowel\n",
        "def is_not_vowel(char):\n",
        "    vowels = \"aeiouAEIOU\"  # List of vowels (both lowercase and uppercase)\n",
        "    return char not in vowels\n",
        "\n",
        "# Given string\n",
        "input_string = \"Hello, World!\"\n",
        "\n",
        "# Use filter() to remove vowels\n",
        "filtered_string = ''.join(filter(is_not_vowel, input_string))\n",
        "\n",
        "# Print the result\n",
        "print(filtered_string)"
      ],
      "metadata": {
        "colab": {
          "base_uri": "https://localhost:8080/"
        },
        "id": "qOKj7diVqFcg",
        "outputId": "075c497f-680e-40d9-e810-07a003158fd4"
      },
      "execution_count": null,
      "outputs": [
        {
          "output_type": "stream",
          "name": "stdout",
          "text": [
            "Hll, Wrld!\n"
          ]
        }
      ]
    },
    {
      "cell_type": "code",
      "source": [
        "### Q11.  Imagine an accounting routine used in a book shop. It works on a list with sublists, which look like this:\n",
        "\n",
        "# Answer:-\n",
        "\n",
        "orders = [\n",
        "    [34587, 'Learning Python, Mark Lutz', 4, 40.95],\n",
        "    [98762, 'Programming Python, Mark Lutz', 5, 56.80],\n",
        "    [77226, 'Head First Python, Paul Barry', 3, 32.95],\n",
        "    [88112, 'Einführung in Python3, Bernd Klein', 3, 24.99]\n",
        "]\n",
        "\n",
        "result = list(map(lambda order: (order[0], order[3] * order[2] + 10 if order[3] * order[2] < 100 else order[3] * order[2]), orders))\n",
        "\n",
        "print(result)\n",
        "\n"
      ],
      "metadata": {
        "colab": {
          "base_uri": "https://localhost:8080/"
        },
        "id": "xO5AIKA7qWoc",
        "outputId": "a4d45730-a7b7-4a3f-8eba-b5bf874e2816"
      },
      "execution_count": null,
      "outputs": [
        {
          "output_type": "stream",
          "name": "stdout",
          "text": [
            "[(34587, 163.8), (98762, 284.0), (77226, 108.85000000000001), (88112, 84.97)]\n"
          ]
        }
      ]
    }
  ]
}